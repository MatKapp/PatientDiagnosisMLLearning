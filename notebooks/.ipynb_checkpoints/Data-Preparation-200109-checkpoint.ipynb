{
 "cells": [
  {
   "cell_type": "markdown",
   "metadata": {},
   "source": [
    "# Data preparation\n",
    "*Version: 2020-01-09*\n",
    "Data preparation covers:\n",
    "\n",
    "1. reading original data and renaming selected columns for consistency with past analysis,\n",
    "1. adding new features capturing results of imaging (focus on abnormality codes suggested by Peter - 2, 3 and 7,\n",
    "1. adding new features capturing aphasia and weakness.\n",
    "1. adding Peter's variable established from image abnormalities, aphasia and weakness,\n",
    "1. selecting relevant variables based on the document received from Peter/Jeff and also additional variables selected later by Peter,\n",
    "1. splitting the data into learning and testing subsets (2/3 and 1/3) based on the date,\n",
    "1. imputing missing values using means and medians and domain knowledge,\n",
    "1. saving the data to a CSV file for further analysis."
   ]
  },
  {
   "cell_type": "markdown",
   "metadata": {},
   "source": [
    "### Reading data and renaming variables"
   ]
  },
  {
   "cell_type": "code",
   "execution_count": 1,
   "metadata": {},
   "outputs": [],
   "source": [
    "%matplotlib inline"
   ]
  },
  {
   "cell_type": "code",
   "execution_count": 2,
   "metadata": {},
   "outputs": [],
   "source": [
    "import pandas as pd\n",
    "import numpy as np"
   ]
  },
  {
   "cell_type": "code",
   "execution_count": 4,
   "metadata": {},
   "outputs": [],
   "source": [
    "tia_df0 = pd.read_excel(\"../data/tia-ed-2019-06-05.xlsx\", index_col=0)"
   ]
  },
  {
   "cell_type": "code",
   "execution_count": 5,
   "metadata": {},
   "outputs": [],
   "source": [
    "# This is to avoid re-reading the data after modifications that should be discarded\n",
    "tia_df = tia_df0.copy()"
   ]
  },
  {
   "cell_type": "code",
   "execution_count": 6,
   "metadata": {},
   "outputs": [
    {
     "data": {
      "text/plain": [
       "(11508, 1380)"
      ]
     },
     "execution_count": 6,
     "metadata": {},
     "output_type": "execute_result"
    }
   ],
   "source": [
    "tia_df.shape"
   ]
  },
  {
   "cell_type": "markdown",
   "metadata": {},
   "source": [
    "We rename some of the variables for naming consistency (all lower case) and to remove some minor typos - later this will allow us for automatic processing of multiple variables. Moroever, we rename `sex` to `sex_female` and `med_ibup` to `med_ibup_last7days` to ease interpretation of their values."
   ]
  },
  {
   "cell_type": "code",
   "execution_count": 7,
   "metadata": {},
   "outputs": [],
   "source": [
    "tia_df.rename(columns={\n",
    "    'Pmedhis_hyp':'pmedhis_hyp', \n",
    "    'Pmedhis_diab':'pmedhis_diab', \n",
    "    'Pmedhis_af':'pmedhis_af',\n",
    "    'Pmedhis_dem':'pmedhis_dem',\n",
    "    'Pmedhis_chf':'pmedhis_chf',\n",
    "    'Pmedhis_smoker':'pmedhis_smoker', \n",
    "    'catthnecklabn_code5':'cathnecklabn_code5', \n",
    "    'catthneckrabn_code5':'cathneckrabn_code5', \n",
    "    'His_wleg':'his_wleg', \n",
    "    'His_warm':'his_warm',\n",
    "    'sex':'sex_female',\n",
    "    'med_ibup':'med_ibup_last_7days'\n",
    "}, inplace=True)"
   ]
  },
  {
   "cell_type": "markdown",
   "metadata": {},
   "source": [
    "### Add additional variables based on imaging and examination/history"
   ]
  },
  {
   "cell_type": "markdown",
   "metadata": {},
   "source": [
    "We use the following algorithm (based on comments received from Peter):\n",
    "\n",
    "1. Consider imaging (2, 3, 7) - can be bilateral.\n",
    "2. Consider weakness\n",
    "    * Consider physical exam. If unilateral, then positive. If bilateral or not consistent, then negative. If negative and not inconsistent, then go to history.\n",
    "    * Consider clinical history. If unilateral, then positive. If bilateral or not consistent, then negative.\n",
    "3. \"Correlate\" positive imaging and positive weakness for opposite sides. Treat aphasia as weakness on the right side."
   ]
  },
  {
   "cell_type": "markdown",
   "metadata": {},
   "source": [
    "#### Add variables capturing abnormal imaging results"
   ]
  },
  {
   "cell_type": "code",
   "execution_count": 8,
   "metadata": {},
   "outputs": [],
   "source": [
    "tia_img_vars = \"cathneck, ctangioneck, cemraneck, tofmraneck, carotid\".split(\", \")"
   ]
  },
  {
   "cell_type": "code",
   "execution_count": 9,
   "metadata": {},
   "outputs": [],
   "source": [
    "def update_img_vars(df=tia_df, img_vars=tia_img_vars):\n",
    "    \"\"\"Ensures consistency of image vars and corresponding abnormality code vars. Thus, if any abnormality has been observed, a corresponding image var will be set to 1.\"\"\"\n",
    "    for var in img_vars:\n",
    "        abn_code_vars = [f\"{var}{side}abn_code{code}\" for side in ['l', 'r'] for code in ['', '2', '3', '4', '5']]\n",
    "        any_abn_flag = df[abn_code_vars].notnull().any(axis = 1)\n",
    "        df[var] = df[var].where(any_abn_flag == 0, 1)"
   ]
  },
  {
   "cell_type": "code",
   "execution_count": 10,
   "metadata": {},
   "outputs": [],
   "source": [
    "def add_img_abn_side_vars(df = tia_df, img_vars = tia_img_vars):\n",
    "    for side in ['l', 'r']:\n",
    "        abn_code_vars = [f\"{var}{side}abn_code{code}\" for var in img_vars for code in ['', '2', '3', '4', '5']]\n",
    "        abn_var = f'img_abn_{side}'\n",
    "        abn_flag = df[abn_code_vars].isin([2, 3, 7]).any(axis=1)\n",
    "        # If no imaging tests were conducted, then we assume NA for the introduced variables\n",
    "        df[abn_var] = abn_flag.where((df[img_vars] == 1).any(axis = 1), np.nan)\n"
   ]
  },
  {
   "cell_type": "code",
   "execution_count": 11,
   "metadata": {},
   "outputs": [],
   "source": [
    "update_img_vars()\n",
    "add_img_abn_side_vars()"
   ]
  },
  {
   "cell_type": "code",
   "execution_count": 12,
   "metadata": {},
   "outputs": [],
   "source": [
    "# Test 1\n",
    "def save_test1(df=tia_df, img_vars=tia_img_vars):\n",
    "    img_vars = ['cathneck']\n",
    "    abn_code_vars = [f\"{var}{side}abn_code{code}\" for var in img_vars for code in ['', '2', '3', '4', '5'] for side in ['l', 'r']]\n",
    "    abn_vars= [f'img_abn_{side}' for side in ['l', 'r']]\n",
    "    t1 = df[abn_vars + abn_code_vars + img_vars].drop_duplicates()\n",
    "    t1.to_csv(\"test1.csv\")\n",
    "\n",
    "# save_test1()"
   ]
  },
  {
   "cell_type": "code",
   "execution_count": 13,
   "metadata": {},
   "outputs": [],
   "source": [
    "# Test 2 (img_abn left)\n",
    "def save_test2(df=tia_df, img_vars=tia_img_vars):\n",
    "    abn_code_vars = [f\"{var}{side}abn_code{code}\" for var in img_vars for code in ['', '2', '3', '4', '5'] for side in ['l', 'r']]\n",
    "    abn_vars= [f'img_abn_{side}' for side in ['l', 'r']]\n",
    "    t1 = df[abn_vars + abn_code_vars + img_vars].drop_duplicates()\n",
    "    t1.to_csv(\"test2.csv\")\n",
    "\n",
    "# save_test2()"
   ]
  },
  {
   "cell_type": "markdown",
   "metadata": {},
   "source": [
    "#### Add variables capturing unilateral weakness"
   ]
  },
  {
   "cell_type": "code",
   "execution_count": 14,
   "metadata": {},
   "outputs": [],
   "source": [
    "tia_body_parts = 'face, arm, leg'.split(', ')"
   ]
  },
  {
   "cell_type": "code",
   "execution_count": 15,
   "metadata": {},
   "outputs": [],
   "source": [
    "def update_weakness_vars(df=tia_df, body_parts=tia_body_parts):\n",
    "    \"\"\" Updates the weakness variables so there is consistency between these variables and variables capturing weakness side.\"\"\"\n",
    "    for obs in ['phys', 'his']:\n",
    "        for part in body_parts:\n",
    "            weakness_var = f'{obs}_w{part}'\n",
    "            weakness_side_var = f'{obs}_w{part}_side'\n",
    "            weakness_side_flag = df[weakness_side_var].notnull()\n",
    "            # if weakness_side_flag == 1, then weakness_var = 1\n",
    "            df[weakness_var] = df[weakness_var].where(weakness_side_flag == 0, 1)\n",
    "            # if weakness_side_flag == 0 & weakness_var == 1, then weakness_var = 0 \n",
    "            df[weakness_var] = df[weakness_var].where((df[weakness_var] != 1) | (weakness_side_flag != 0), 0)"
   ]
  },
  {
   "cell_type": "code",
   "execution_count": 16,
   "metadata": {},
   "outputs": [],
   "source": [
    "def add_uni_weakness_side_vars(df=tia_df, body_parts=tia_body_parts):    \n",
    "    # Start with physical exam, and then proceed with history\n",
    "    for obs in ['phys', 'his']:\n",
    "        weakness_vars = [f'{obs}_w{part}' for part in body_parts]\n",
    "        weakness_side_vars = [f'{obs}_w{part}_side' for part in body_parts]\n",
    "        df_weakness_side = df[weakness_side_vars]\n",
    "        for side, val in {'l': 2, 'r': 1}.items():\n",
    "            obs_uni_weakness_var = f'{obs}_uni_weakness_{side}'    \n",
    "            obs_uni_weakness_flag = (df_weakness_side.isnull() | (df_weakness_side == val)).all(axis = 1) \\\n",
    "                   & df_weakness_side.notnull().any(axis = 1)\n",
    "            # if any weakness var has been provided, then kee[ weakness_flag, otherwise set it to NA\n",
    "            df[obs_uni_weakness_var] = obs_uni_weakness_flag.where(df[weakness_vars].notnull().any(axis = 1), np.nan)\n",
    "            \n",
    "    # Now we establish the ultimate weakness variables by combining weaknesses from PE and history\n",
    "    for side in ['l', 'r']:\n",
    "        uni_weakness_var = f'uni_weakness_{side}'\n",
    "        phys_uni_weakness_var = f'phys_uni_weakness_{side}'\n",
    "        his_uni_weakness_var = f'his_uni_weakness_{side}'\n",
    "        phys_weakness_side_vars = [f'phys_w{part}_side' for part in body_parts]\n",
    "        df[uni_weakness_var] = df[phys_uni_weakness_var].where(\n",
    "            (df[phys_uni_weakness_var] == 1) | df[phys_weakness_side_vars].notnull().any(axis = 1) | df[his_uni_weakness_var].isnull(), \n",
    "            df[his_uni_weakness_var])\n"
   ]
  },
  {
   "cell_type": "code",
   "execution_count": 17,
   "metadata": {},
   "outputs": [],
   "source": [
    "update_weakness_vars()\n",
    "add_uni_weakness_side_vars()"
   ]
  },
  {
   "cell_type": "code",
   "execution_count": 18,
   "metadata": {},
   "outputs": [],
   "source": [
    "def add_aphasia_var(df=tia_df):\n",
    "    aphasia_flag = df.speechdif_type.isin([1, 3]) \n",
    "    df['aphasia'] = aphasia_flag.where(df.speechdif.notnull() | df.speechdif_type.notnull(), np.nan)"
   ]
  },
  {
   "cell_type": "code",
   "execution_count": 19,
   "metadata": {},
   "outputs": [],
   "source": [
    "add_aphasia_var()"
   ]
  },
  {
   "cell_type": "code",
   "execution_count": 20,
   "metadata": {},
   "outputs": [
    {
     "data": {
      "text/html": [
       "<div>\n",
       "<style scoped>\n",
       "    .dataframe tbody tr th:only-of-type {\n",
       "        vertical-align: middle;\n",
       "    }\n",
       "\n",
       "    .dataframe tbody tr th {\n",
       "        vertical-align: top;\n",
       "    }\n",
       "\n",
       "    .dataframe thead th {\n",
       "        text-align: right;\n",
       "    }\n",
       "</style>\n",
       "<table border=\"1\" class=\"dataframe\">\n",
       "  <thead>\n",
       "    <tr style=\"text-align: right;\">\n",
       "      <th></th>\n",
       "      <th>speechdif</th>\n",
       "      <th>speechdif_type</th>\n",
       "      <th>aphasia</th>\n",
       "    </tr>\n",
       "  </thead>\n",
       "  <tbody>\n",
       "    <tr>\n",
       "      <th>0</th>\n",
       "      <td>0.0</td>\n",
       "      <td>NaN</td>\n",
       "      <td>0.0</td>\n",
       "    </tr>\n",
       "    <tr>\n",
       "      <th>3</th>\n",
       "      <td>1.0</td>\n",
       "      <td>1.0</td>\n",
       "      <td>1.0</td>\n",
       "    </tr>\n",
       "    <tr>\n",
       "      <th>6</th>\n",
       "      <td>1.0</td>\n",
       "      <td>2.0</td>\n",
       "      <td>0.0</td>\n",
       "    </tr>\n",
       "    <tr>\n",
       "      <th>36</th>\n",
       "      <td>1.0</td>\n",
       "      <td>NaN</td>\n",
       "      <td>0.0</td>\n",
       "    </tr>\n",
       "    <tr>\n",
       "      <th>214</th>\n",
       "      <td>1.0</td>\n",
       "      <td>3.0</td>\n",
       "      <td>1.0</td>\n",
       "    </tr>\n",
       "    <tr>\n",
       "      <th>240</th>\n",
       "      <td>NaN</td>\n",
       "      <td>NaN</td>\n",
       "      <td>NaN</td>\n",
       "    </tr>\n",
       "    <tr>\n",
       "      <th>9496</th>\n",
       "      <td>NaN</td>\n",
       "      <td>2.0</td>\n",
       "      <td>0.0</td>\n",
       "    </tr>\n",
       "  </tbody>\n",
       "</table>\n",
       "</div>"
      ],
      "text/plain": [
       "      speechdif  speechdif_type  aphasia\n",
       "0           0.0             NaN      0.0\n",
       "3           1.0             1.0      1.0\n",
       "6           1.0             2.0      0.0\n",
       "36          1.0             NaN      0.0\n",
       "214         1.0             3.0      1.0\n",
       "240         NaN             NaN      NaN\n",
       "9496        NaN             2.0      0.0"
      ]
     },
     "execution_count": 20,
     "metadata": {},
     "output_type": "execute_result"
    }
   ],
   "source": [
    "tia_df[['speechdif', 'speechdif_type', 'aphasia']].drop_duplicates()"
   ]
  },
  {
   "cell_type": "code",
   "execution_count": 21,
   "metadata": {},
   "outputs": [],
   "source": [
    "# Test 3 (physical weakness)\n",
    "def save_test3(df=tia_df):\n",
    "    t3 = df[['phys_uni_weakness_l', 'phys_uni_weakness_r', 'phys_wface_side', 'phys_warm_side', 'phys_wleg_side']].drop_duplicates()\n",
    "    t3.to_csv(\"test3.csv\")\n",
    "    \n",
    "# save_test3()"
   ]
  },
  {
   "cell_type": "code",
   "execution_count": 22,
   "metadata": {},
   "outputs": [],
   "source": [
    "# Test 4 (unilateral weakness)\n",
    "def save_test4(df=tia_df):\n",
    "    t4 = df[['uni_weakness_l', 'phys_uni_weakness_l', 'his_uni_weakness_l', 'uni_weakness_r', 'phys_uni_weakness_r', 'his_uni_weakness_r']].drop_duplicates()\n",
    "    t4.to_csv(\"test4.csv\")\n",
    "\n",
    "# save_test4()"
   ]
  },
  {
   "cell_type": "code",
   "execution_count": 23,
   "metadata": {},
   "outputs": [],
   "source": [
    "# Test 5 (unilateral weakness + physical weakness)\n",
    "def save_test5(df=tia_df):\n",
    "    t5 = df[['uni_weakness_l', 'phys_uni_weakness_l', 'his_uni_weakness_l', 'uni_weakness_r', 'phys_uni_weakness_r', 'his_uni_weakness_r', \n",
    "             'phys_wface_side', 'phys_warm_side', 'phys_wleg_side', 'his_wface_side', 'his_warm_side', 'his_wleg_side']].drop_duplicates()\n",
    "    t5.to_csv(\"test5.csv\")\n",
    "\n",
    "# save_test5()"
   ]
  },
  {
   "cell_type": "code",
   "execution_count": 24,
   "metadata": {},
   "outputs": [],
   "source": [
    "def add_peter_flag_var(df=tia_df):\n",
    "    peter_flag = (\n",
    "        ((df.img_abn_l == 1) & (df.uni_weakness_r == 1)) \n",
    "        | ((df.img_abn_r == 1) & (df.uni_weakness_l == 1))\n",
    "        | (df.img_abn_l == 1) & (df.aphasia == 1))\n",
    "    df['peter_flag'] = peter_flag.where(df[['img_abn_l', 'img_abn_r']].notnull().any(axis=1) \n",
    "                                  & df[['uni_weakness_l', 'uni_weakness_r', 'aphasia']].notnull().any(axis=1), \n",
    "                                  np.nan)"
   ]
  },
  {
   "cell_type": "code",
   "execution_count": 25,
   "metadata": {},
   "outputs": [],
   "source": [
    "add_peter_flag_var()"
   ]
  },
  {
   "cell_type": "markdown",
   "metadata": {},
   "source": [
    "### Select variables\n",
    "\n",
    "The list of initially selected features is provided below. It includes variables from the *TIA Risk Score Report*, as well as variables suggested by Peter (mail from 2019.08.30) and a flag indicating a \"crossed\" co-occurence of abnormal findings in imaging tests and unilateral weakness (so-called \"Peter's flag\").\n",
    "\n",
    "*Comments:*\n",
    "* we use original (continuous) versions of age, SBP and DBP without discretization,\n",
    "* we use original values of symptom durations -- it seems both original and processed features (`dursymptoms` and `my_dursymptoms`) are categrized, however, the former is more detailed (has more possible values),\n",
    "* we temporarily use date of visit in order to split the data into learning and testing subsets -- obviously, it is excluded from final analysis.\n",
    "\n",
    "*Variables:*\n",
    "1. sex_female  \n",
    "1. age \n",
    "1. temperature\n",
    "1. hr_rate\n",
    "1. sbp\n",
    "1. dbp\t\n",
    "1. sa02\n",
    "1. wbcvalue\n",
    "1. hgbvalue\n",
    "1. pltvalue\n",
    "1. creatinevalue\n",
    "1. glucosevalue\n",
    "1. ckvalue\n",
    "1. tntvalue\n",
    "1. my_ecgtype -- this is `ecgtype` combined with `ecgothcode` to simplify coding\n",
    "1. pmedhis_hyp\t\n",
    "1. pmedhis_cad\n",
    "1. pmedhis_af\n",
    "1. pmedhis_pvd\t\n",
    "1. pmedhis_diab\t\n",
    "1. pmedhis_kps\t\n",
    "1. pmedhis_smoker\t\n",
    "1. pmedhis_cs\t\n",
    "1. pmedhis_chf\t\n",
    "1. pmedhis_hchol\t\n",
    "1. pmedhis_dem\t\n",
    "1. pmedhis_vhd\t\n",
    "1. med_asa\n",
    "1. med_dipy\n",
    "1. med_clop\n",
    "1. med_stat\n",
    "1. med_anti\n",
    "1. ~~med_ticl~~ -- eventually removed by Peter \n",
    "1. med_coum\n",
    "1. med_ibup_last_7days\n",
    "1. my_infarct\n",
    "1. inittia_numpast\n",
    "1. dursymptoms\n",
    "1. my_sensation\n",
    "1. my_weakness\n",
    "1. my_gait \n",
    "1. my_vertigo_syncope \n",
    "1. my_lang_speech\n",
    "1. my_afib\n",
    "1. img_abn_l -- abnormality in imaging tests (left)\n",
    "1. img_abn_r -- abnormality in imaging tests (right)\n",
    "1. uni_weakness_l - unilateral weakness (left)\n",
    "1. uni_weakness_r - unilateral weakness (right)\n",
    "1. aphasia\n",
    "1. peter_flag \n",
    "1. dov -- for splitting into learning and testing sets\n",
    "1. **my_outcome**\n",
    "1. **adj_outcome_is7day**\n",
    "1. **adj_carotidoutcome_is7day**"
   ]
  },
  {
   "cell_type": "markdown",
   "metadata": {},
   "source": [
    "We introduce the `my_ecgtype` variable that combines `ecgtype` with `ecgothcode`. Moreover, we replace `ecgtype == 0` with NA (this code is not mentioned in the SAS screenshot)."
   ]
  },
  {
   "cell_type": "code",
   "execution_count": 26,
   "metadata": {},
   "outputs": [],
   "source": [
    "def add_my_ecgtype_var(df=tia_df):\n",
    "    df.ecgtype = df.ecgtype.where(df.ecgtype != 0, np.nan)\n",
    "    df['my_ecgtype'] = df.ecgtype.where((tia_df.ecgtype != 4.0) | df.ecgothcode.isnull(), df.ecgothcode + 3.0)"
   ]
  },
  {
   "cell_type": "code",
   "execution_count": 27,
   "metadata": {},
   "outputs": [],
   "source": [
    "add_my_ecgtype_var()"
   ]
  },
  {
   "cell_type": "code",
   "execution_count": 28,
   "metadata": {},
   "outputs": [
    {
     "data": {
      "text/html": [
       "<div>\n",
       "<style scoped>\n",
       "    .dataframe tbody tr th:only-of-type {\n",
       "        vertical-align: middle;\n",
       "    }\n",
       "\n",
       "    .dataframe tbody tr th {\n",
       "        vertical-align: top;\n",
       "    }\n",
       "\n",
       "    .dataframe thead th {\n",
       "        text-align: right;\n",
       "    }\n",
       "</style>\n",
       "<table border=\"1\" class=\"dataframe\">\n",
       "  <thead>\n",
       "    <tr style=\"text-align: right;\">\n",
       "      <th></th>\n",
       "      <th>my_ecgtype</th>\n",
       "      <th>ecgtype</th>\n",
       "      <th>ecgothcode</th>\n",
       "    </tr>\n",
       "  </thead>\n",
       "  <tbody>\n",
       "    <tr>\n",
       "      <th>0</th>\n",
       "      <td>1.0</td>\n",
       "      <td>1.0</td>\n",
       "      <td>NaN</td>\n",
       "    </tr>\n",
       "    <tr>\n",
       "      <th>4</th>\n",
       "      <td>2.0</td>\n",
       "      <td>2.0</td>\n",
       "      <td>NaN</td>\n",
       "    </tr>\n",
       "    <tr>\n",
       "      <th>8</th>\n",
       "      <td>8.0</td>\n",
       "      <td>4.0</td>\n",
       "      <td>5.0</td>\n",
       "    </tr>\n",
       "    <tr>\n",
       "      <th>18</th>\n",
       "      <td>4.0</td>\n",
       "      <td>4.0</td>\n",
       "      <td>1.0</td>\n",
       "    </tr>\n",
       "    <tr>\n",
       "      <th>20</th>\n",
       "      <td>NaN</td>\n",
       "      <td>NaN</td>\n",
       "      <td>NaN</td>\n",
       "    </tr>\n",
       "    <tr>\n",
       "      <th>36</th>\n",
       "      <td>6.0</td>\n",
       "      <td>4.0</td>\n",
       "      <td>3.0</td>\n",
       "    </tr>\n",
       "    <tr>\n",
       "      <th>48</th>\n",
       "      <td>7.0</td>\n",
       "      <td>4.0</td>\n",
       "      <td>4.0</td>\n",
       "    </tr>\n",
       "    <tr>\n",
       "      <th>67</th>\n",
       "      <td>3.0</td>\n",
       "      <td>3.0</td>\n",
       "      <td>NaN</td>\n",
       "    </tr>\n",
       "    <tr>\n",
       "      <th>545</th>\n",
       "      <td>5.0</td>\n",
       "      <td>4.0</td>\n",
       "      <td>2.0</td>\n",
       "    </tr>\n",
       "    <tr>\n",
       "      <th>2615</th>\n",
       "      <td>4.0</td>\n",
       "      <td>4.0</td>\n",
       "      <td>NaN</td>\n",
       "    </tr>\n",
       "    <tr>\n",
       "      <th>6655</th>\n",
       "      <td>2.0</td>\n",
       "      <td>2.0</td>\n",
       "      <td>1.0</td>\n",
       "    </tr>\n",
       "    <tr>\n",
       "      <th>8284</th>\n",
       "      <td>1.0</td>\n",
       "      <td>1.0</td>\n",
       "      <td>1.0</td>\n",
       "    </tr>\n",
       "  </tbody>\n",
       "</table>\n",
       "</div>"
      ],
      "text/plain": [
       "      my_ecgtype  ecgtype  ecgothcode\n",
       "0            1.0      1.0         NaN\n",
       "4            2.0      2.0         NaN\n",
       "8            8.0      4.0         5.0\n",
       "18           4.0      4.0         1.0\n",
       "20           NaN      NaN         NaN\n",
       "36           6.0      4.0         3.0\n",
       "48           7.0      4.0         4.0\n",
       "67           3.0      3.0         NaN\n",
       "545          5.0      4.0         2.0\n",
       "2615         4.0      4.0         NaN\n",
       "6655         2.0      2.0         1.0\n",
       "8284         1.0      1.0         1.0"
      ]
     },
     "execution_count": 28,
     "metadata": {},
     "output_type": "execute_result"
    }
   ],
   "source": [
    "tia_df[['my_ecgtype', 'ecgtype', 'ecgothcode']].drop_duplicates()"
   ]
  },
  {
   "cell_type": "code",
   "execution_count": 29,
   "metadata": {},
   "outputs": [],
   "source": [
    "tia_selected_vars = [\n",
    "    'my_outcome',\n",
    "    'adj_outcome_is7day',\n",
    "    'adj_carotidoutcome_is7day',\n",
    "    'sex_female',\n",
    "    'age',\n",
    "    'temperature',\n",
    "    'hr_rate',\n",
    "    'sbp',\n",
    "    'dbp',\n",
    "    'sa02',\n",
    "    'wbcvalue',\n",
    "    'hgbvalue',\n",
    "    'pltvalue',\n",
    "    'creatinevalue',\n",
    "    'glucosevalue',\n",
    "    'ckvalue',\n",
    "    'tntvalue',\n",
    "    'my_ecgtype',\n",
    "    'pmedhis_hyp',\n",
    "    'pmedhis_cad',\n",
    "    'pmedhis_af',\n",
    "    'pmedhis_pvd',\n",
    "    'pmedhis_diab',\n",
    "    'pmedhis_kps',\n",
    "    'pmedhis_smoker',\n",
    "    'pmedhis_cs',\n",
    "    'pmedhis_chf',\n",
    "    'pmedhis_hchol',\n",
    "    'pmedhis_dem',\n",
    "    'pmedhis_vhd',\n",
    "    'med_asa',\n",
    "    'med_dipy',\n",
    "    'med_clop',\n",
    "    'med_stat',\n",
    "    'med_anti',\n",
    "    'med_coum',\n",
    "    'med_ibup_last_7days',\n",
    "    'my_infarct',\n",
    "    'inittia_numpast',\n",
    "    'dursymptoms',\n",
    "    'my_sensation',\n",
    "    'my_weakness',\n",
    "    'my_gait',\n",
    "    'my_vertigo_syncope',\n",
    "    'my_lang_speech',\n",
    "    'my_afib',\n",
    "    'img_abn_l',\n",
    "    'img_abn_r',\n",
    "    'uni_weakness_l',\n",
    "    'uni_weakness_r',\n",
    "    'aphasia',\n",
    "    'peter_flag',\n",
    "    'dov'\n",
    "]"
   ]
  },
  {
   "cell_type": "markdown",
   "metadata": {},
   "source": [
    "We limit the set of features to the above list."
   ]
  },
  {
   "cell_type": "code",
   "execution_count": 30,
   "metadata": {},
   "outputs": [],
   "source": [
    "tia_df_sel = tia_df[tia_selected_vars]"
   ]
  },
  {
   "cell_type": "markdown",
   "metadata": {
    "pycharm": {
     "name": "#%% md\n"
    }
   },
   "source": [
    "Now we identify symbolic and numeric variables based on the number of their possible values (we use 20 as the threshold)."
   ]
  },
  {
   "cell_type": "code",
   "execution_count": 31,
   "metadata": {},
   "outputs": [],
   "source": [
    "# Note that we omit decision variables and dov\n",
    "tia_numeric_vars, tia_symbolic_vars = [], []\n",
    "\n",
    "for var in tia_selected_vars[3:-1]:\n",
    "    unique_vals = tia_df_sel[var].unique()\n",
    "    # print(\"{}: #unique = {}\".format(var, len(unique_vals)))\n",
    "    if len(unique_vals) < 20:\n",
    "        # print(unique_vals)\n",
    "        tia_symbolic_vars += [var]\n",
    "    else:\n",
    "        tia_numeric_vars += [var]\n"
   ]
  },
  {
   "cell_type": "markdown",
   "metadata": {
    "pycharm": {
     "name": "#%% md\n"
    }
   },
   "source": [
    "### Restore original coding of selected (non-binary) symbolic variables\n",
    "\n",
    "We restre original (readable) codes for symbolic variables with more than 2 possible values. The remaining symbolic variables are binary and in their case we keep 0-1 representation to simplify further processing."
   ]
  },
  {
   "cell_type": "code",
   "execution_count": 32,
   "metadata": {},
   "outputs": [],
   "source": [
    "def encode_symbolic_vars(df):\n",
    "    dursymptoms_codes = {1: 'lt_1min', 2: '1_5min', 3: '5_9min', 4: '10_29min', 5: '30_59min', 6: 'ge_60min'}\n",
    "    my_ecgtype_codes = {1: \"sinus_rhythm\", 2: \"afib\", 3: \"afl\", 4: \"old_infarct\", 5: \"acute_infarct\", 6: \"non_specific\", 7: \"pace_rhythm\", 8: \"conduction_abn\"}\n",
    "    med_codes = {0: 'no', 1: 'already_taken', 2: 'started_ed', 3: 'discont_ed'}\n",
    "    df.replace({'dursymptoms' : dursymptoms_codes, 'my_ecgtype': my_ecgtype_codes}, inplace=True)    \n",
    "    for var in [v for v  in df.columns if v.startswith('med_') and v != 'med_ibup_last_7days']:\n",
    "        df.replace({var: med_codes}, inplace=True)\n",
    "    "
   ]
  },
  {
   "cell_type": "code",
   "execution_count": 33,
   "metadata": {},
   "outputs": [
    {
     "name": "stderr",
     "output_type": "stream",
     "text": [
      "c:\\users\\kapis\\appdata\\local\\programs\\python\\python36\\lib\\site-packages\\pandas\\core\\generic.py:6702: SettingWithCopyWarning: \n",
      "A value is trying to be set on a copy of a slice from a DataFrame.\n",
      "Try using .loc[row_indexer,col_indexer] = value instead\n",
      "\n",
      "See the caveats in the documentation: http://pandas.pydata.org/pandas-docs/stable/user_guide/indexing.html#returning-a-view-versus-a-copy\n",
      "  regex=regex,\n"
     ]
    }
   ],
   "source": [
    "encode_symbolic_vars(tia_df_sel)"
   ]
  },
  {
   "cell_type": "markdown",
   "metadata": {},
   "source": [
    "### Split data into learning and testing subsets\n",
    "\n",
    "We are going to split the data set into learning and testing parts (2/3 and 1/3, respectively) based on the date of visit. Since we have $N = 11508$ cases, this translates to $N_{learn} = 11508 \\cdot 2/3 = 7672$ and $N_{test} = 11508 \\cdot 1/3 = 3836$ in the ideal situation. After checking several possible dates, it seems a reasonable split can be obtained using the date of **May 1, 2015**. All earlier cases (visits) constitute the testing set, while the remaining cases are the testing (or validation) ones. This dates results in the following numbers: $N_{learn} = 7617$ and $N_{test} = 3891$ which is very close to the desired split."
   ]
  },
  {
   "cell_type": "code",
   "execution_count": 34,
   "metadata": {},
   "outputs": [
    {
     "name": "stderr",
     "output_type": "stream",
     "text": [
      "c:\\users\\kapis\\appdata\\local\\programs\\python\\python36\\lib\\site-packages\\ipykernel_launcher.py:1: SettingWithCopyWarning: \n",
      "A value is trying to be set on a copy of a slice from a DataFrame.\n",
      "Try using .loc[row_indexer,col_indexer] = value instead\n",
      "\n",
      "See the caveats in the documentation: http://pandas.pydata.org/pandas-docs/stable/user_guide/indexing.html#returning-a-view-versus-a-copy\n",
      "  \"\"\"Entry point for launching an IPython kernel.\n"
     ]
    }
   ],
   "source": [
    "tia_df_sel[\"learn\"] = (tia_df_sel.dov < '2015-05-01').astype(int)"
   ]
  },
  {
   "cell_type": "code",
   "execution_count": 35,
   "metadata": {},
   "outputs": [
    {
     "data": {
      "text/plain": [
       "array([<matplotlib.axes._subplots.AxesSubplot object at 0x000002932EF687F0>,\n",
       "       <matplotlib.axes._subplots.AxesSubplot object at 0x00000293267F0EF0>],\n",
       "      dtype=object)"
      ]
     },
     "execution_count": 35,
     "metadata": {},
     "output_type": "execute_result"
    },
    {
     "data": {
      "image/png": "[encoded data removed]",
      "text/plain": [
       "<Figure size 432x288 with 2 Axes>"
      ]
     },
     "metadata": {
      "needs_background": "light"
     },
     "output_type": "display_data"
    }
   ],
   "source": [
    "tia_df_sel.my_outcome.hist(by=tia_df_sel.learn, bins=2)"
   ]
  },
  {
   "cell_type": "code",
   "execution_count": 56,
   "metadata": {},
   "outputs": [
    {
     "data": {
      "text/html": [
       "<div>\n",
       "<style scoped>\n",
       "    .dataframe tbody tr th:only-of-type {\n",
       "        vertical-align: middle;\n",
       "    }\n",
       "\n",
       "    .dataframe tbody tr th {\n",
       "        vertical-align: top;\n",
       "    }\n",
       "\n",
       "    .dataframe thead th {\n",
       "        text-align: right;\n",
       "    }\n",
       "</style>\n",
       "<table border=\"1\" class=\"dataframe\">\n",
       "  <thead>\n",
       "    <tr style=\"text-align: right;\">\n",
       "      <th>learn</th>\n",
       "      <th>0</th>\n",
       "      <th>1</th>\n",
       "    </tr>\n",
       "    <tr>\n",
       "      <th>my_outcome</th>\n",
       "      <th></th>\n",
       "      <th></th>\n",
       "    </tr>\n",
       "  </thead>\n",
       "  <tbody>\n",
       "    <tr>\n",
       "      <th>0</th>\n",
       "      <td>0.9743</td>\n",
       "      <td>0.974662</td>\n",
       "    </tr>\n",
       "    <tr>\n",
       "      <th>1</th>\n",
       "      <td>0.0257</td>\n",
       "      <td>0.025338</td>\n",
       "    </tr>\n",
       "  </tbody>\n",
       "</table>\n",
       "</div>"
      ],
      "text/plain": [
       "learn            0         1\n",
       "my_outcome                  \n",
       "0           0.9743  0.974662\n",
       "1           0.0257  0.025338"
      ]
     },
     "execution_count": 56,
     "metadata": {},
     "output_type": "execute_result"
    }
   ],
   "source": [
    "pd.crosstab(tia_df_sel.my_outcome, tia_df_sel.learn, normalize=\"columns\")"
   ]
  },
  {
   "cell_type": "markdown",
   "metadata": {},
   "source": [
    "The data set is heavily imbalanced (2.5% in the positive class). Moreover, the same imbalance is observed in both subsets which should result in reliable evaluation of a developed model."
   ]
  },
  {
   "cell_type": "markdown",
   "metadata": {
    "pycharm": {
     "name": "#%% md\n"
    }
   },
   "source": [
    "Now we save the current version of the data set to a file -- note it contains missing values."
   ]
  },
  {
   "cell_type": "code",
   "execution_count": 36,
   "metadata": {},
   "outputs": [],
   "source": [
    "tia_df_sel.drop(columns=\"dov\").to_csv(\"../data/tia-ed-sel-2020-01-09.csv\")"
   ]
  },
  {
   "cell_type": "markdown",
   "metadata": {
    "pycharm": {
     "name": "#%% md\n"
    }
   },
   "source": [
    "### Impute missing values\n",
    "\n",
    "First, we check the ratio of missing values for each of the selected variables."
   ]
  },
  {
   "cell_type": "code",
   "execution_count": 37,
   "metadata": {},
   "outputs": [],
   "source": [
    "tia_na_stats = tia_df_sel.isna().sum()/len(tia_df_sel)*100.0"
   ]
  },
  {
   "cell_type": "code",
   "execution_count": 38,
   "metadata": {},
   "outputs": [
    {
     "data": {
      "text/plain": [
       "<matplotlib.axes._subplots.AxesSubplot at 0x293268b6160>"
      ]
     },
     "execution_count": 38,
     "metadata": {},
     "output_type": "execute_result"
    },
    {
     "data": {
      "image/png": "[encoded data removed]",
      "text/plain": [
       "<Figure size 432x288 with 1 Axes>"
      ]
     },
     "metadata": {
      "needs_background": "light"
     },
     "output_type": "display_data"
    }
   ],
   "source": [
    "tia_na_stats.plot.bar()"
   ]
  },
  {
   "cell_type": "markdown",
   "metadata": {},
   "source": [
    "The ratio of missing values differs significantly across variables -- most incomplete are variables capturing information about drugs (`med_*`). In some cases, they are missing for more than more than 90% of patients. "
   ]
  },
  {
   "cell_type": "markdown",
   "metadata": {
    "pycharm": {
     "name": "#%% md\n"
    }
   },
   "source": [
    "Here we check types of individual variables (excluding outcomes and `dov`). Specifically, we check for the number of unique values for each variable. "
   ]
  },
  {
   "cell_type": "code",
   "execution_count": 39,
   "metadata": {},
   "outputs": [],
   "source": [
    "# We need to temporarily treat inittia_numpast as symbolic variable (missing values should be imputed with the most frequent value as opposed to mean). This assignment will be fixed before saving the data set.\n",
    "tia_numeric_vars.remove('inittia_numpast')\n",
    "tia_symbolic_vars += ['inittia_numpast']"
   ]
  },
  {
   "cell_type": "code",
   "execution_count": 40,
   "metadata": {},
   "outputs": [],
   "source": [
    "tia_df_sel_learn = tia_df_sel[tia_df_sel.learn == 1]\n"
   ]
  },
  {
   "cell_type": "markdown",
   "metadata": {
    "pycharm": {
     "name": "#%% md\n"
    }
   },
   "source": [
    "We create a map with default values for specific features."
   ]
  },
  {
   "cell_type": "code",
   "execution_count": 41,
   "metadata": {},
   "outputs": [],
   "source": [
    "tia_default_vals = {}\n",
    "for var in tia_selected_vars[3:-1]:\n",
    "    tia_default_vals[var] = round(tia_df_sel_learn[var].mean(), 1) if var in tia_numeric_vars else tia_df_sel_learn[var].mode()[0]"
   ]
  },
  {
   "cell_type": "markdown",
   "metadata": {
    "pycharm": {
     "name": "#%% md\n"
    }
   },
   "source": [
    "Introduce corrections suggested by Peter (note that `med_ticl` has been already removed)."
   ]
  },
  {
   "cell_type": "code",
   "execution_count": 42,
   "metadata": {},
   "outputs": [],
   "source": [
    "tia_default_vals['med_dipy'] = 0\n",
    "tia_default_vals['med_clop'] = 0\n",
    "tia_default_vals['med_coum'] = 0"
   ]
  },
  {
   "cell_type": "markdown",
   "metadata": {
    "pycharm": {
     "name": "#%% md\n"
    }
   },
   "source": [
    "Replace missing values with default ones."
   ]
  },
  {
   "cell_type": "code",
   "execution_count": 43,
   "metadata": {},
   "outputs": [],
   "source": [
    "tia_df_sel_imputed = tia_df_sel.fillna(value=tia_default_vals)"
   ]
  },
  {
   "cell_type": "code",
   "execution_count": 44,
   "metadata": {},
   "outputs": [],
   "source": [
    "# We also recalculate Peter's flag, so it is consistent with other imputed variables\n",
    "\n",
    "add_peter_flag_var(df=tia_df_sel_imputed)\n",
    "tia_df_sel_imputed.peter_flag *= 1"
   ]
  },
  {
   "cell_type": "code",
   "execution_count": 45,
   "metadata": {},
   "outputs": [
    {
     "data": {
      "text/plain": [
       "0    11090\n",
       "1      418\n",
       "Name: peter_flag, dtype: int64"
      ]
     },
     "execution_count": 45,
     "metadata": {},
     "output_type": "execute_result"
    }
   ],
   "source": [
    "tia_df_sel_imputed.peter_flag.value_counts()"
   ]
  },
  {
   "cell_type": "code",
   "execution_count": 46,
   "metadata": {},
   "outputs": [
    {
     "data": {
      "text/html": [
       "<div>\n",
       "<style scoped>\n",
       "    .dataframe tbody tr th:only-of-type {\n",
       "        vertical-align: middle;\n",
       "    }\n",
       "\n",
       "    .dataframe tbody tr th {\n",
       "        vertical-align: top;\n",
       "    }\n",
       "\n",
       "    .dataframe thead th {\n",
       "        text-align: right;\n",
       "    }\n",
       "</style>\n",
       "<table border=\"1\" class=\"dataframe\">\n",
       "  <thead>\n",
       "    <tr style=\"text-align: right;\">\n",
       "      <th>peter_flag</th>\n",
       "      <th>0</th>\n",
       "      <th>1</th>\n",
       "    </tr>\n",
       "    <tr>\n",
       "      <th>my_outcome</th>\n",
       "      <th></th>\n",
       "      <th></th>\n",
       "    </tr>\n",
       "  </thead>\n",
       "  <tbody>\n",
       "    <tr>\n",
       "      <th>0</th>\n",
       "      <td>10879</td>\n",
       "      <td>336</td>\n",
       "    </tr>\n",
       "    <tr>\n",
       "      <th>1</th>\n",
       "      <td>211</td>\n",
       "      <td>82</td>\n",
       "    </tr>\n",
       "  </tbody>\n",
       "</table>\n",
       "</div>"
      ],
      "text/plain": [
       "peter_flag      0    1\n",
       "my_outcome            \n",
       "0           10879  336\n",
       "1             211   82"
      ]
     },
     "execution_count": 46,
     "metadata": {},
     "output_type": "execute_result"
    }
   ],
   "source": [
    "pd.crosstab(tia_df_sel_imputed.my_outcome, tia_df_sel_imputed.peter_flag)"
   ]
  },
  {
   "cell_type": "code",
   "execution_count": 47,
   "metadata": {},
   "outputs": [
    {
     "data": {
      "text/html": [
       "<div>\n",
       "<style scoped>\n",
       "    .dataframe tbody tr th:only-of-type {\n",
       "        vertical-align: middle;\n",
       "    }\n",
       "\n",
       "    .dataframe tbody tr th {\n",
       "        vertical-align: top;\n",
       "    }\n",
       "\n",
       "    .dataframe thead th {\n",
       "        text-align: right;\n",
       "    }\n",
       "</style>\n",
       "<table border=\"1\" class=\"dataframe\">\n",
       "  <thead>\n",
       "    <tr style=\"text-align: right;\">\n",
       "      <th>peter_flag</th>\n",
       "      <th>0.0</th>\n",
       "      <th>1.0</th>\n",
       "    </tr>\n",
       "    <tr>\n",
       "      <th>my_outcome</th>\n",
       "      <th></th>\n",
       "      <th></th>\n",
       "    </tr>\n",
       "  </thead>\n",
       "  <tbody>\n",
       "    <tr>\n",
       "      <th>0</th>\n",
       "      <td>8317</td>\n",
       "      <td>336</td>\n",
       "    </tr>\n",
       "    <tr>\n",
       "      <th>1</th>\n",
       "      <td>192</td>\n",
       "      <td>82</td>\n",
       "    </tr>\n",
       "  </tbody>\n",
       "</table>\n",
       "</div>"
      ],
      "text/plain": [
       "peter_flag   0.0  1.0\n",
       "my_outcome           \n",
       "0           8317  336\n",
       "1            192   82"
      ]
     },
     "execution_count": 47,
     "metadata": {},
     "output_type": "execute_result"
    }
   ],
   "source": [
    "pd.crosstab(tia_df_sel.my_outcome, tia_df_sel.peter_flag)"
   ]
  },
  {
   "cell_type": "markdown",
   "metadata": {
    "pycharm": {
     "name": "#%% md\n"
    }
   },
   "source": [
    "Now we change types of numeric and symbolic variables so they can be correctly interpreted in further analysis."
   ]
  },
  {
   "cell_type": "code",
   "execution_count": 48,
   "metadata": {},
   "outputs": [],
   "source": [
    "# First, we correct inittia_numpast\n",
    "\n",
    "tia_symbolic_vars.remove('inittia_numpast')\n",
    "tia_numeric_vars += ['inittia_numpast']\n",
    "\n",
    "for var in [v for v in tia_symbolic_vars if v not in tia_df_sel_imputed.select_dtypes(include=['object'])]:\n",
    "    tia_df_sel_imputed[var] = pd.to_numeric(tia_df_sel_imputed[var], downcast='integer')\n",
    "\n",
    "for var in tia_numeric_vars:\n",
    "    tia_df_sel_imputed[var] = pd.to_numeric(tia_df_sel_imputed[var], downcast='float')\n",
    "    "
   ]
  },
  {
   "cell_type": "code",
   "execution_count": 49,
   "metadata": {},
   "outputs": [
    {
     "data": {
      "text/plain": [
       "True"
      ]
     },
     "execution_count": 49,
     "metadata": {},
     "output_type": "execute_result"
    }
   ],
   "source": [
    "# Check if dtypes are consistent with actual variable types\n",
    "t = list(tia_df_sel_imputed.select_dtypes(include=['int8', 'int16', 'object']).columns)\n",
    "sorted(t) == sorted(tia_symbolic_vars)"
   ]
  },
  {
   "cell_type": "code",
   "execution_count": 50,
   "metadata": {},
   "outputs": [
    {
     "data": {
      "text/plain": [
       "True"
      ]
     },
     "execution_count": 50,
     "metadata": {},
     "output_type": "execute_result"
    }
   ],
   "source": [
    "t = list(tia_df_sel_imputed.select_dtypes(include=['float32']).columns)\n",
    "sorted(t) == sorted(tia_numeric_vars)"
   ]
  },
  {
   "cell_type": "markdown",
   "metadata": {},
   "source": [
    "### Save imputed data to a file\n",
    "\n",
    "Finally, the data is saved to a CSV file and the redundant `dov` is dropped."
   ]
  },
  {
   "cell_type": "code",
   "execution_count": 51,
   "metadata": {},
   "outputs": [],
   "source": [
    "tia_df_sel_imputed.drop(columns=\"dov\").to_csv(\"../data/tia-ed-sel-imp-2020-01-09.csv\")\n"
   ]
  },
  {
   "cell_type": "code",
   "execution_count": null,
   "metadata": {},
   "outputs": [],
   "source": []
  }
 ],
 "metadata": {
  "kernelspec": {
   "display_name": "Python 3",
   "language": "python",
   "name": "python3"
  },
  "language_info": {
   "codemirror_mode": {
    "name": "ipython",
    "version": 3
   },
   "file_extension": ".py",
   "mimetype": "text/x-python",
   "name": "python",
   "nbconvert_exporter": "python",
   "pygments_lexer": "ipython3",
   "version": "3.6.8"
  },
  "pycharm": {
   "stem_cell": {
    "cell_type": "raw",
    "metadata": {
     "collapsed": false
    },
    "source": []
   }
  }
 },
 "nbformat": 4,
 "nbformat_minor": 2
}
